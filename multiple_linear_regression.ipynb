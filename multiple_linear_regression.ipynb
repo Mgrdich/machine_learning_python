{
 "cells": [
  {
   "cell_type": "code",
   "execution_count": 1,
   "metadata": {
    "collapsed": true,
    "pycharm": {
     "name": "#%%\n"
    }
   },
   "outputs": [],
   "source": [
    "import numpy as np\n",
    "import pandas as pd\n",
    "import matplotlib.pyplot as plt"
   ]
  },
  {
   "cell_type": "markdown",
   "source": [
    "### Multiple Linear Regression\n",
    "\n",
    "$y = b_0 + b_1x_1 +b_2x_2 +b_3x_3 + ... +b_nx_n$\n",
    "\n",
    "#### Building a Model\n",
    "* All in values\n",
    "* Backward Elimination\n",
    "* Forward Selection\n",
    "* Bidirectional Elimination\n",
    "* Score Comparison\n",
    "\n",
    "##### All in values\n",
    "* You have a prior knowledge\n",
    "* You have to\n",
    "* you are going to implement backward elimination\n",
    "\n",
    "\n",
    "##### Backward elimination\n",
    "1. Select a significance level to stay in the model ($SL = 0.05$)\n",
    "2. Fit the full model with all possible predictors\n",
    "3. Consider the predictor with the highest P-value if  $P > SL$ go to step\n",
    "4 otherwise go the to finish\n",
    "4. Remove the predictor (variable)\n",
    "5. Fit model without the variable (recursively until you reach equilibrium)\n",
    "\n",
    "##### Forward elimination\n",
    "1. Select a significance level to stay in the model ($SL = 0.05$)\n",
    "2. Fit all simple regression models $y ~ x_n$Select the one with the lowest P-value\n",
    "3. Keep this variable and fill all possible models with one extra predictor added to the ones(s)\n",
    " you already have\n",
    "4. Consider the predictor with the lowest P-value if $P < SL$ to step 3 otherwise to Finish (Keep the previous one)\n",
    "\n",
    "\n",
    "##### Bidirectional elimination\n",
    "1. Select a significance level to stay and enter the model ($SLENTER = 0.05$)\n",
    "($SLSTAY = 0.05$)\n",
    "2. Perform the next step of forward Selection  ( new variable must have $P<SLENTER$) to enter\n",
    "3. Perform all the steps of backward Elimination (old variables must have $P<SLSTAY$) to stay\n",
    "4. No new variables can enter and no variables can exit\n",
    "\n",
    "\n",
    "##### Possible  elimination\n",
    "1. Select criterion of goodness of fit\n",
    "2. Construct All possible Regression models $2^N-1$ combinations\n",
    "3. Select the one with the best criterion"
   ],
   "metadata": {
    "collapsed": false
   }
  },
  {
   "cell_type": "code",
   "execution_count": null,
   "outputs": [],
   "source": [],
   "metadata": {
    "collapsed": false,
    "pycharm": {
     "name": "#%%\n"
    }
   }
  }
 ],
 "metadata": {
  "kernelspec": {
   "display_name": "Python 3",
   "language": "python",
   "name": "python3"
  },
  "language_info": {
   "codemirror_mode": {
    "name": "ipython",
    "version": 2
   },
   "file_extension": ".py",
   "mimetype": "text/x-python",
   "name": "python",
   "nbconvert_exporter": "python",
   "pygments_lexer": "ipython2",
   "version": "2.7.6"
  }
 },
 "nbformat": 4,
 "nbformat_minor": 0
}