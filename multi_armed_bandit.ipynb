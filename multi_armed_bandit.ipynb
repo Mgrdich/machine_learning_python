{
 "cells": [
  {
   "cell_type": "markdown",
   "source": [
    "# One Arm bandit problem\n",
    "Technically is the slot machine the fastest way to get you money at the casino.\n",
    "\n",
    "it differs from $AB$ test that $AB$ test just have exploration after the\n",
    "experiment is finished then we can start the exploit phase , which is not\n",
    "optimal is that you are not exploiting best option until the experiment is over\n",
    "\n",
    "while the reinforcement learning exploit phase start during the experiment\n",
    "while exploring"
   ],
   "metadata": {
    "collapsed": false
   }
  },
  {
   "cell_type": "markdown",
   "source": [
    "* We have $d$ arms , in this case arms are advertisements\n",
    "* Each time a user connects to this web page that make a round\n",
    "* At each $n$ round we choose one ad to display to the user\n",
    "* At each $n$ round , add $i$ gives a reward $r_i(n) {0,1}:r_i(n) = 1$ if the user clicked on the add i , 0 if the user didn't\n",
    "* Our goal is to maximize the total reward we ger over many rounds\n",
    "\n",
    "\n",
    "## Steps:\n",
    "\n",
    "### Step 1 . At Each round n we consider two number for each ad i:\n",
    "* $N_i(n) $ the number of time the ad i was selected up to a round n\n",
    "* $R_i(n)$ the sum of rewards of the ad i up yp round n.\n",
    "\n",
    "### Step 2 From these two number we compute\n",
    "* average reward of ad up to round n\n",
    "$\\bar{r}_i(n)= \\frac{R_i(n)}{N_i(n)}$\n",
    "\n",
    "* the confidence interval $[\\bar{r}_i(n) - \\Delta_i(n) , \\bar{r}_i(n) + \\Delta_i(n)]$ at round n with\n",
    "$\\Delta_i(n) =  \\sqrt{\\frac{3}{2} \\frac{log(n)}{N_i(n)}} $\n",
    "\n",
    "\n",
    "## Step 3 we select the ad i that has the maximum\n",
    "$UCB \\: \\bar{r}_i(n) + \\Delta_i(n)$\n",
    "\n",
    "\n",
    "### The intuition behind the algorithm\n",
    "Technically we are trying to choose the best distribution while exploting\n",
    "the best as much as we know, and we can"
   ],
   "metadata": {
    "collapsed": false,
    "pycharm": {
     "name": "#%% md\n"
    }
   }
  },
  {
   "cell_type": "code",
   "execution_count": 1,
   "outputs": [],
   "source": [
    "import numpy as np\n",
    "import pandas as pd\n",
    "import matplotlib.pyplot as plt\n",
    "import math"
   ],
   "metadata": {
    "collapsed": false,
    "pycharm": {
     "name": "#%%\n"
    }
   }
  },
  {
   "cell_type": "code",
   "execution_count": 2,
   "outputs": [],
   "source": [
    "data_sets = pd.read_csv('data_sets/Ads_CTR_Optimisation.csv')\n"
   ],
   "metadata": {
    "collapsed": false,
    "pycharm": {
     "name": "#%%\n"
    }
   }
  },
  {
   "cell_type": "code",
   "execution_count": 16,
   "outputs": [],
   "source": [
    "# implementation of UCB\n",
    "\n",
    "# Steps\n",
    "N = 10000 # all the users\n",
    "ads = 10 # number of ads\n",
    "ads_selected = np.array([])\n",
    "\n",
    "# each index represent the current ( i )\n",
    "number_of_selections = np.zeros(ads)\n",
    "\n",
    "# each index represent the current ( i )\n",
    "# total accumulated reward\n",
    "sums_of_rewards = np.zeros(ads)\n",
    "\n",
    "\n",
    "total_reward = 0\n",
    "\n",
    "for n in range(0, N):\n",
    "    ad = 0\n",
    "    max_upper_bound = 0\n",
    "    for i in range(0, ads):\n",
    "        if number_of_selections[i] > 0:\n",
    "            average_reward = sums_of_rewards[i] / number_of_selections[i]\n",
    "            delta_i = math.sqrt(3/2 * math.log(n + 1)/ number_of_selections[i])\n",
    "            upper_bound = average_reward + delta_i\n",
    "        else:\n",
    "            # first round\n",
    "            upper_bound = 1e400\n",
    "\n",
    "        if max_upper_bound < upper_bound:\n",
    "            max_upper_bound = upper_bound\n",
    "            ad = i\n",
    "\n",
    "    ads_selected = np.append(ads_selected,values=ad)\n",
    "    number_of_selections[ad] += 1\n",
    "    reward = data_sets.values[n, ad]\n",
    "    sums_of_rewards[ad] += reward\n",
    "    total_reward += reward"
   ],
   "metadata": {
    "collapsed": false,
    "pycharm": {
     "name": "#%%\n"
    }
   }
  },
  {
   "cell_type": "code",
   "execution_count": 18,
   "outputs": [
    {
     "data": {
      "text/plain": "<Figure size 432x288 with 1 Axes>",
      "image/png": "[encoded data removed]"
     },
     "metadata": {
      "needs_background": "light"
     },
     "output_type": "display_data"
    }
   ],
   "source": [
    "plt.hist(ads_selected)\n",
    "plt.title('Histogram of ads selections')\n",
    "plt.xlabel('Ads')\n",
    "plt.ylabel('Number os time each ad was selected')\n",
    "plt.show()"
   ],
   "metadata": {
    "collapsed": false,
    "pycharm": {
     "name": "#%%\n"
    }
   }
  },
  {
   "cell_type": "code",
   "execution_count": null,
   "outputs": [],
   "source": [],
   "metadata": {
    "collapsed": false,
    "pycharm": {
     "name": "#%%\n"
    }
   }
  }
 ],
 "metadata": {
  "kernelspec": {
   "display_name": "Python 3",
   "language": "python",
   "name": "python3"
  },
  "language_info": {
   "codemirror_mode": {
    "name": "ipython",
    "version": 2
   },
   "file_extension": ".py",
   "mimetype": "text/x-python",
   "name": "python",
   "nbconvert_exporter": "python",
   "pygments_lexer": "ipython2",
   "version": "2.7.6"
  }
 },
 "nbformat": 4,
 "nbformat_minor": 0
}